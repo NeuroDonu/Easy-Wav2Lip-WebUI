{
  "nbformat": 4,
  "nbformat_minor": 0,
  "metadata": {
    "colab": {
      "provenance": [],
      "gpuType": "T4",
      "authorship_tag": "ABX9TyOY7HZT6Vt2ndf4lWYSzEFp"
    },
    "kernelspec": {
      "name": "python3",
      "display_name": "Python 3"
    },
    "language_info": {
      "name": "python"
    },
    "accelerator": "GPU"
  },
  "cells": [
    {
      "cell_type": "code",
      "execution_count": null,
      "metadata": {
        "cellView": "form",
        "id": "kBiyQz4REqif"
      },
      "outputs": [],
      "source": [
        "#@title #Установка & запуск\n",
        "from IPython.display import clear_output\n",
        "from google.colab import drive\n",
        "\n",
        "google_drive = True #@param {type:\"boolean\"}\n",
        "ngrok = False #@param {type:\"boolean\"}\n",
        "ngrok_authtoken = \"\"#@param {type:\"string\"}\n",
        "#@markdown #Твой ngrok токен тут: https://dashboard.ngrok.com/get-started/your-authtoken\n",
        "if google_drive:\n",
        "  WORKSPACE = '/content/drive/Easy-Wav2Lip-WebUI/'\n",
        "  drive.mount('/content/drive')\n",
        "  %cd /content/drive\n",
        "  !git clone https://github.com/NeuroDonu/Easy-Wav2Lip-WebUI\n",
        "  %cd $WORKSPACE\n",
        "  !pip install -r {WORKSPACE}requirements.txt\n",
        "  !pip install pyngrok\n",
        "  !ngrok config add-authtoken {ngrok_authtoken}\n",
        "  from pyngrok import ngrok\n",
        "  ngrok.kill()\n",
        "  ngrok_url = ngrok.connect(80)\n",
        "  print(ngrok_url)\n",
        "  !python app.py\n",
        "else:\n",
        "  WORKSPACE = '/content/Easy-Wav2Lip-WebUI/'\n",
        "  %cd /content/\n",
        "  !git clone https://github.com/NeuroDonu/Easy-Wav2Lip-WebUI\n",
        "  %cd $WORKSPACE\n",
        "  !pip install -r {WORKSPACE}requirements.txt\n",
        "  !pip install pyngrok\n",
        "  !ngrok config add-authtoken {ngrok_authtoken}\n",
        "  from pyngrok import ngrok\n",
        "  ngrok.kill()\n",
        "  ngrok_url = ngrok.connect(80)"
      ]
    }
  ]
}